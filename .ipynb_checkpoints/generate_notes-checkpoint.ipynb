{
 "cells": [
  {
   "cell_type": "code",
   "execution_count": 1,
   "id": "483ff899-5ec6-4d04-99b1-b188304b1ef1",
   "metadata": {},
   "outputs": [],
   "source": [
    "import json\n",
    "import os\n",
    "from collections import defaultdict\n",
    "\n",
    "import pandas as pd\n",
    "\n",
    "# Paths\n",
    "RAW_DATA_DIR = \"data/raw/\"\n",
    "NOTES_DIR = \"data/notes/\""
   ]
  },
  {
   "cell_type": "code",
   "execution_count": 2,
   "id": "7e5b4d7e-e917-48ff-be85-53dfd5bc02c2",
   "metadata": {},
   "outputs": [],
   "source": [
    "# Ensure output folder exists\n",
    "os.makedirs(NOTES_DIR, exist_ok=True)\n",
    "\n",
    "# Load CSVs\n",
    "patients = pd.read_csv(os.path.join(RAW_DATA_DIR, \"patients.csv\"))\n",
    "conditions = pd.read_csv(os.path.join(RAW_DATA_DIR, \"conditions.csv\"))\n",
    "encounters = pd.read_csv(os.path.join(RAW_DATA_DIR, \"encounters.csv\"))\n",
    "medications = pd.read_csv(os.path.join(RAW_DATA_DIR, \"medications.csv\"))\n",
    "observations = pd.read_csv(os.path.join(RAW_DATA_DIR, \"observations.csv\"))"
   ]
  },
  {
   "cell_type": "code",
   "execution_count": 3,
   "id": "c043d66b-80bd-4b2c-b656-26ef4bbc529a",
   "metadata": {},
   "outputs": [],
   "source": [
    "# Build patient-related maps\n",
    "def group_by_patient(df, column=\"DESCRIPTION\"):\n",
    "    patient_map = defaultdict(list)\n",
    "    for _, row in df.iterrows():\n",
    "        patient_id = row[\"PATIENT\"]\n",
    "        desc = row.get(column, \"\")\n",
    "        if pd.notna(desc):\n",
    "            patient_map[patient_id].append(str(desc))\n",
    "    return patient_map\n",
    "\n",
    "\n",
    "condition_map = group_by_patient(conditions)\n",
    "medication_map = group_by_patient(medications)\n",
    "observation_map = group_by_patient(observations, column=\"DESCRIPTION\")\n",
    "encounter_map = group_by_patient(encounters, column=\"REASON\")"
   ]
  },
  {
   "cell_type": "code",
   "execution_count": 5,
   "id": "af109887-050b-43bc-b84e-dc0e4aa577dd",
   "metadata": {},
   "outputs": [
    {
     "name": "stdout",
     "output_type": "stream",
     "text": [
      "✅ Generated 140 clinical notes in 'data/notes/'\n"
     ]
    }
   ],
   "source": [
    "# Generate clinical notes\n",
    "for _, patient in patients.iterrows():\n",
    "    patient_id = patient[\"Id\"]\n",
    "    gender = str(patient[\"GENDER\"]).capitalize()\n",
    "    birth_year = int(str(patient[\"BIRTHDATE\"])[:4])\n",
    "    age = 2025 - birth_year  # Fixed reference year\n",
    "    name = f\"Patient-{patient_id[:6]}\"\n",
    "\n",
    "    conditions_text = \", \".join(condition_map[patient_id]) or \"No known conditions.\"\n",
    "    meds_text = \", \".join(medication_map[patient_id]) or \"No medications recorded.\"\n",
    "    obs_text = (\n",
    "        \"; \".join(observation_map[patient_id][:5]) or \"No significant lab results.\"\n",
    "    )\n",
    "    reasons = \". \".join(encounter_map[patient_id][:2]) or \"Routine checkup.\"\n",
    "\n",
    "    note = f\"\"\"Patient: {name}, {age}-year-old {gender}\n",
    "              Chief Complaint:\n",
    "              {reasons}\n",
    "\n",
    "              Medical History:\n",
    "              {conditions_text}\n",
    "\n",
    "              Clinical Findings:\n",
    "              {obs_text}\n",
    "\n",
    "              Medications:\n",
    "              {meds_text}\n",
    "\n",
    "              Plan:\n",
    "              Follow up as necessary.\n",
    "              \"\"\"\n",
    "\n",
    "    # # Save .txt\n",
    "    # txt_path = os.path.join(NOTES_DIR, f\"{patient_id}.txt\")\n",
    "    # with open(txt_path, \"w\") as f:\n",
    "    #     f.write(note)\n",
    "    \n",
    "    # Save .json\n",
    "    json_path = os.path.join(NOTES_DIR, f\"{patient_id}.json\")\n",
    "    with open(json_path, 'w') as f:\n",
    "        json.dump({\n",
    "            \"patient_id\": patient_id,\n",
    "            \"name\": name,\n",
    "            \"age\": age,\n",
    "            \"gender\": gender,\n",
    "            \"note\": note\n",
    "        }, f, indent=2)\n",
    "\n",
    "print(f\"✅ Generated {len(patients)} clinical notes in '{NOTES_DIR}'\")"
   ]
  },
  {
   "cell_type": "code",
   "execution_count": null,
   "id": "0ef48887-23fe-426c-89e2-7cb1684d8c95",
   "metadata": {},
   "outputs": [],
   "source": []
  }
 ],
 "metadata": {
  "kernelspec": {
   "display_name": "base",
   "language": "python",
   "name": "python3"
  },
  "language_info": {
   "codemirror_mode": {
    "name": "ipython",
    "version": 3
   },
   "file_extension": ".py",
   "mimetype": "text/x-python",
   "name": "python",
   "nbconvert_exporter": "python",
   "pygments_lexer": "ipython3",
   "version": "3.12.7"
  }
 },
 "nbformat": 4,
 "nbformat_minor": 5
}
